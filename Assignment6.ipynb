{
 "cells": [
  {
   "cell_type": "code",
   "execution_count": 56,
   "metadata": {},
   "outputs": [],
   "source": [
    "#Task 01\n",
    "\n",
    "ELEMENTS = tuple((None, \"Hydrogen\", \"Helium\", \"Lithium\", \"Beryllium\", \"Boron\", \"Carbon\"))\n",
    "OPERATIONS_ORDER = [\"Parentheses\", \"Exponents\", \"Multiplication\", \"Division\", \"Addition\", \"Subtraction\"]"
   ]
  },
  {
   "cell_type": "code",
   "execution_count": 57,
   "metadata": {},
   "outputs": [
    {
     "data": {
      "text/plain": [
       "(None, 'Hydrogen', 'Helium', 'Lithium', 'Beryllium', 'Boron', 'Carbon')"
      ]
     },
     "execution_count": 57,
     "metadata": {},
     "output_type": "execute_result"
    }
   ],
   "source": [
    "ELEMENTS"
   ]
  },
  {
   "cell_type": "code",
   "execution_count": 58,
   "metadata": {},
   "outputs": [
    {
     "data": {
      "text/plain": [
       "['Parentheses',\n",
       " 'Exponents',\n",
       " 'Multiplication',\n",
       " 'Division',\n",
       " 'Addition',\n",
       " 'Subtraction']"
      ]
     },
     "execution_count": 58,
     "metadata": {},
     "output_type": "execute_result"
    }
   ],
   "source": [
    "OPERATIONS_ORDER"
   ]
  },
  {
   "cell_type": "code",
   "execution_count": 59,
   "metadata": {},
   "outputs": [],
   "source": [
    "#Task 02\n",
    "\n",
    "def process_data(data):\n",
    "    \"\"\"\n",
    "    Adds values in a list or tuple and finds the sum and the average.\n",
    "    \n",
    "    Args:\n",
    "        data(list or tuple): a list or tuple of numbers\n",
    "        \n",
    "    Returns:\n",
    "        tuple: sum of all values, average of all values\n",
    "        \n",
    "    Examples:\n",
    "    \n",
    "        >>> process_data([1, 2, 3])\n",
    "            (6, 2.0)\n",
    "    \"\"\"\n",
    "    \n",
    "    mysum = 0\n",
    "    for item in data:\n",
    "        item += mysum\n",
    "        mysum = item\n",
    "        myavg = float(mysum)/len(data)\n",
    "    return (mysum, myavg)"
   ]
  },
  {
   "cell_type": "code",
   "execution_count": 60,
   "metadata": {},
   "outputs": [
    {
     "data": {
      "text/plain": [
       "(6, 2.0)"
      ]
     },
     "execution_count": 60,
     "metadata": {},
     "output_type": "execute_result"
    }
   ],
   "source": [
    "process_data([1,2,3])"
   ]
  },
  {
   "cell_type": "code",
   "execution_count": 72,
   "metadata": {},
   "outputs": [],
   "source": [
    "#Task 03\n",
    "\n",
    "def flip_keys(to_flip):\n",
    "    \"\"\"\n",
    "    Returns the original list with its inner elements reversed.\n",
    "    \n",
    "    Args:\n",
    "        to_flip(list): a list assumed to have nested, immutable sequences\n",
    "        \n",
    "    Returns:\n",
    "        Returns the original list with its inner elements reversed\n",
    "        \n",
    "    Examples:\n",
    "        >>> flip_keys([(1, 2, 3), 'abc'])\n",
    "            [(3, 2, 1), 'cba']\n",
    "    \"\"\"\n",
    "    \n",
    "    counter = 0\n",
    "    for item in to_flip:\n",
    "        to_flip[counter] = item[::-1]\n",
    "        counter += 1\n",
    "    return to_flip"
   ]
  },
  {
   "cell_type": "code",
   "execution_count": 73,
   "metadata": {},
   "outputs": [],
   "source": [
    "LIST = ([(1, 2, 3), 'abc'])"
   ]
  },
  {
   "cell_type": "code",
   "execution_count": 74,
   "metadata": {},
   "outputs": [],
   "source": [
    "NEW = flip_keys(LIST)"
   ]
  },
  {
   "cell_type": "code",
   "execution_count": 75,
   "metadata": {},
   "outputs": [
    {
     "data": {
      "text/plain": [
       "True"
      ]
     },
     "execution_count": 75,
     "metadata": {},
     "output_type": "execute_result"
    }
   ],
   "source": [
    "LIST is NEW"
   ]
  },
  {
   "cell_type": "code",
   "execution_count": 78,
   "metadata": {},
   "outputs": [
    {
     "name": "stdout",
     "output_type": "stream",
     "text": [
      "[(3, 2, 1), 'cba']\n"
     ]
    }
   ],
   "source": [
    "print LIST"
   ]
  }
 ],
 "metadata": {
  "kernelspec": {
   "display_name": "Python 2",
   "language": "python",
   "name": "python2"
  },
  "language_info": {
   "codemirror_mode": {
    "name": "ipython",
    "version": 2
   },
   "file_extension": ".py",
   "mimetype": "text/x-python",
   "name": "python",
   "nbconvert_exporter": "python",
   "pygments_lexer": "ipython2",
   "version": "2.7.16"
  }
 },
 "nbformat": 4,
 "nbformat_minor": 2
}
