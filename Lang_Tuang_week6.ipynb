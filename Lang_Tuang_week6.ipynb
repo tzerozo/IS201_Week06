{
 "cells": [
  {
   "cell_type": "code",
   "execution_count": 2,
   "metadata": {},
   "outputs": [],
   "source": [
    "#Assignment6 March8,2020\n",
    "#Task01  list  & tuple defining\n",
    "ELEMENTS = tuple ((None, \"Hydrogen\", \"Helium\", \"Lithium\", \"Beryllium\", \"Boron\", \"Carbon\"))\n",
    "OPERATIONS_ORDER = [\"Parentheses\", \"Exponents\", \"Multiplication\", \"Division\", \"Addition\", \"Subtraction\"]"
   ]
  },
  {
   "cell_type": "code",
   "execution_count": 3,
   "metadata": {},
   "outputs": [
    {
     "name": "stdout",
     "output_type": "stream",
     "text": [
      "(None, 'Hydrogen', 'Helium', 'Lithium', 'Beryllium', 'Boron', 'Carbon')\n"
     ]
    }
   ],
   "source": [
    "print ELEMENTS"
   ]
  },
  {
   "cell_type": "code",
   "execution_count": 4,
   "metadata": {},
   "outputs": [
    {
     "name": "stdout",
     "output_type": "stream",
     "text": [
      "['Parentheses', 'Exponents', 'Multiplication', 'Division', 'Addition', 'Subtraction']\n"
     ]
    }
   ],
   "source": [
    "print OPERATIONS_ORDER"
   ]
  },
  {
   "cell_type": "code",
   "execution_count": 7,
   "metadata": {},
   "outputs": [],
   "source": [
    "#Task02  for loop\n",
    "\n",
    "def process_data(data):\n",
    "    total = 0\n",
    "    for item in data:\n",
    "        item = item + total\n",
    "        total = item\n",
    "        avge = float(total)/len(data)\n",
    "    return (total,avge)"
   ]
  },
  {
   "cell_type": "code",
   "execution_count": 8,
   "metadata": {},
   "outputs": [
    {
     "data": {
      "text/plain": [
       "(6, 2.0)"
      ]
     },
     "execution_count": 8,
     "metadata": {},
     "output_type": "execute_result"
    }
   ],
   "source": [
    "process_data([1,2,3])\n"
   ]
  },
  {
   "cell_type": "code",
   "execution_count": 10,
   "metadata": {},
   "outputs": [],
   "source": [
    "#Task03  TUPLEs\n",
    "def flip_keys(to_flip):\n",
    "    counter = 0\n",
    "    for value in to_flip:\n",
    "        to_flip[counter] = value[::-1]\n",
    "        counter += 1\n",
    "    return to_flip"
   ]
  },
  {
   "cell_type": "code",
   "execution_count": 11,
   "metadata": {},
   "outputs": [],
   "source": [
    "LIST = [(1, 2, 3), 'abc']"
   ]
  },
  {
   "cell_type": "code",
   "execution_count": 12,
   "metadata": {},
   "outputs": [],
   "source": [
    "NEW = flip_keys(LIST)"
   ]
  },
  {
   "cell_type": "code",
   "execution_count": 13,
   "metadata": {},
   "outputs": [
    {
     "data": {
      "text/plain": [
       "True"
      ]
     },
     "execution_count": 13,
     "metadata": {},
     "output_type": "execute_result"
    }
   ],
   "source": [
    "LIST is NEW"
   ]
  },
  {
   "cell_type": "code",
   "execution_count": 14,
   "metadata": {},
   "outputs": [
    {
     "name": "stdout",
     "output_type": "stream",
     "text": [
      "[(3, 2, 1), 'cba']\n"
     ]
    }
   ],
   "source": [
    "print LIST"
   ]
  },
  {
   "cell_type": "code",
   "execution_count": null,
   "metadata": {},
   "outputs": [],
   "source": []
  }
 ],
 "metadata": {
  "kernelspec": {
   "display_name": "Python 2",
   "language": "python",
   "name": "python2"
  },
  "language_info": {
   "codemirror_mode": {
    "name": "ipython",
    "version": 2
   },
   "file_extension": ".py",
   "mimetype": "text/x-python",
   "name": "python",
   "nbconvert_exporter": "python",
   "pygments_lexer": "ipython2",
   "version": "2.7.16"
  }
 },
 "nbformat": 4,
 "nbformat_minor": 2
}
